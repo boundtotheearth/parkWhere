{
 "cells": [
  {
   "cell_type": "code",
   "execution_count": 1,
   "metadata": {
    "id": "WKr-J_tv8mR3"
   },
   "outputs": [],
   "source": [
    "from __future__ import absolute_import, division, print_function\n",
    "\n",
    "import pathlib\n",
    "\n",
    "import matplotlib.pyplot as plt\n",
    "import pandas as pd\n",
    "import seaborn as sns\n",
    "\n",
    "import tensorflow as tf\n",
    "from tensorflow import keras\n",
    "from tensorflow.keras import layers\n",
    "import os"
   ]
  },
  {
   "cell_type": "code",
   "execution_count": 4,
   "metadata": {
    "id": "cNIMsDeLFdX8"
   },
   "outputs": [],
   "source": [
    "data_list = []\n",
    "for f in os.listdir(\"data2\"):\n",
    "    if f.endswith(\".csv\"):\n",
    "        data_list.append(pd.read_csv(os.path.join(\"data2\", f)).rename(columns={'Unnamed: 0': 'carpark_id'}))\n",
    "df = pd.concat(data_list)"
   ]
  },
  {
   "cell_type": "code",
   "execution_count": 5,
   "metadata": {
    "id": "L9M9yz6IFhsW"
   },
   "outputs": [],
   "source": [
    "df.update_datetime = pd.to_datetime(df[\"update_datetime\"])\n",
    "df[\"hour\"] = df.update_datetime.dt.hour\n",
    "df.lots_available = df.lots_available.astype(int)\n",
    "df.day = df.day.astype(int)\n",
    "df.carpark_id = df.carpark_id.astype(int)\n",
    "df = df.drop([\"total_lots\"], axis=1)\n",
    "df = df.drop([\"update_datetime\"], axis=1)\n",
    "df = df.drop([\"carpark_id\"], axis=1)\n",
    "df = df[[\"carpark_number\", \"day\", \"hour\", \"lots_available\"]].sample(frac=0.3)\n",
    "df = df.reset_index(drop=True)"
   ]
  },
  {
   "cell_type": "code",
   "execution_count": 6,
   "metadata": {
    "colab": {
     "base_uri": "https://localhost:8080/",
     "height": 202
    },
    "id": "RcPsCo3IBmot",
    "outputId": "4c3d8b19-f179-4595-e964-d82e8c8fc4c4"
   },
   "outputs": [
    {
     "data": {
      "text/html": [
       "<div>\n",
       "<style scoped>\n",
       "    .dataframe tbody tr th:only-of-type {\n",
       "        vertical-align: middle;\n",
       "    }\n",
       "\n",
       "    .dataframe tbody tr th {\n",
       "        vertical-align: top;\n",
       "    }\n",
       "\n",
       "    .dataframe thead th {\n",
       "        text-align: right;\n",
       "    }\n",
       "</style>\n",
       "<table border=\"1\" class=\"dataframe\">\n",
       "  <thead>\n",
       "    <tr style=\"text-align: right;\">\n",
       "      <th></th>\n",
       "      <th>lots_available</th>\n",
       "      <th>carpark_number</th>\n",
       "      <th>day</th>\n",
       "      <th>hour</th>\n",
       "    </tr>\n",
       "  </thead>\n",
       "  <tbody>\n",
       "    <tr>\n",
       "      <th>397605</th>\n",
       "      <td>58</td>\n",
       "      <td>UBK5</td>\n",
       "      <td>2</td>\n",
       "      <td>6</td>\n",
       "    </tr>\n",
       "    <tr>\n",
       "      <th>397606</th>\n",
       "      <td>82</td>\n",
       "      <td>PM18</td>\n",
       "      <td>4</td>\n",
       "      <td>17</td>\n",
       "    </tr>\n",
       "    <tr>\n",
       "      <th>397607</th>\n",
       "      <td>180</td>\n",
       "      <td>KM2</td>\n",
       "      <td>6</td>\n",
       "      <td>2</td>\n",
       "    </tr>\n",
       "    <tr>\n",
       "      <th>397608</th>\n",
       "      <td>154</td>\n",
       "      <td>W100</td>\n",
       "      <td>1</td>\n",
       "      <td>10</td>\n",
       "    </tr>\n",
       "    <tr>\n",
       "      <th>397609</th>\n",
       "      <td>126</td>\n",
       "      <td>J9</td>\n",
       "      <td>2</td>\n",
       "      <td>16</td>\n",
       "    </tr>\n",
       "  </tbody>\n",
       "</table>\n",
       "</div>"
      ],
      "text/plain": [
       "        lots_available carpark_number  day  hour\n",
       "397605              58           UBK5    2     6\n",
       "397606              82           PM18    4    17\n",
       "397607             180            KM2    6     2\n",
       "397608             154           W100    1    10\n",
       "397609             126             J9    2    16"
      ]
     },
     "execution_count": 6,
     "metadata": {},
     "output_type": "execute_result"
    }
   ],
   "source": [
    "column_names = [\"lots_available\", \"carpark_number\", \"day\", \"hour\"]\n",
    "\n",
    "raw_dataset = df[column_names]\n",
    "\n",
    "dataset = raw_dataset.copy()\n",
    "dataset.tail()"
   ]
  },
  {
   "cell_type": "code",
   "execution_count": 7,
   "metadata": {
    "id": "wUMJi3V8Fm0e"
   },
   "outputs": [],
   "source": [
    "carpark_num = dataset.pop('carpark_number')\n",
    "for num in set(carpark_num):\n",
    "    dataset[num] = (carpark_num == num)*1.0"
   ]
  },
  {
   "cell_type": "code",
   "execution_count": 26,
   "metadata": {
    "colab": {
     "base_uri": "https://localhost:8080/",
     "height": 201
    },
    "id": "UWPf1f1jcmdr",
    "outputId": "1a357178-fd7e-4e9a-a39d-19184502204e"
   },
   "outputs": [],
   "source": [
    "features_df = pd.DataFrame([\"day\", \"hour\"], columns=[\"features\"])\n",
    "features_df = features_df.append(pd.DataFrame(set(carpark_num), columns=[\"features\"])).reset_index(drop=True)"
   ]
  },
  {
   "cell_type": "code",
   "execution_count": 27,
   "metadata": {
    "id": "sVM0A9nkdnTc"
   },
   "outputs": [],
   "source": [
    "features_df.to_csv(\"features.csv\")"
   ]
  },
  {
   "cell_type": "code",
   "execution_count": 10,
   "metadata": {
    "id": "MBStmxHYB1-y"
   },
   "outputs": [],
   "source": [
    "train_dataset = dataset.sample(frac=0.8,random_state=0)\n",
    "test_dataset = dataset.drop(train_dataset.index)"
   ]
  },
  {
   "cell_type": "code",
   "execution_count": 11,
   "metadata": {
    "colab": {
     "base_uri": "https://localhost:8080/",
     "height": 415
    },
    "id": "8KwjxvioDCOe",
    "outputId": "6f1b3cc2-981e-4d6a-c1a1-b8fbafa29c87"
   },
   "outputs": [
    {
     "data": {
      "text/html": [
       "<div>\n",
       "<style scoped>\n",
       "    .dataframe tbody tr th:only-of-type {\n",
       "        vertical-align: middle;\n",
       "    }\n",
       "\n",
       "    .dataframe tbody tr th {\n",
       "        vertical-align: top;\n",
       "    }\n",
       "\n",
       "    .dataframe thead th {\n",
       "        text-align: right;\n",
       "    }\n",
       "</style>\n",
       "<table border=\"1\" class=\"dataframe\">\n",
       "  <thead>\n",
       "    <tr style=\"text-align: right;\">\n",
       "      <th></th>\n",
       "      <th>count</th>\n",
       "      <th>mean</th>\n",
       "      <th>std</th>\n",
       "      <th>min</th>\n",
       "      <th>25%</th>\n",
       "      <th>50%</th>\n",
       "      <th>75%</th>\n",
       "      <th>max</th>\n",
       "    </tr>\n",
       "  </thead>\n",
       "  <tbody>\n",
       "    <tr>\n",
       "      <th>day</th>\n",
       "      <td>318088.0</td>\n",
       "      <td>2.794318</td>\n",
       "      <td>1.926795</td>\n",
       "      <td>0.0</td>\n",
       "      <td>1.0</td>\n",
       "      <td>3.0</td>\n",
       "      <td>4.0</td>\n",
       "      <td>6.0</td>\n",
       "    </tr>\n",
       "    <tr>\n",
       "      <th>hour</th>\n",
       "      <td>318088.0</td>\n",
       "      <td>11.958464</td>\n",
       "      <td>6.575647</td>\n",
       "      <td>0.0</td>\n",
       "      <td>6.0</td>\n",
       "      <td>12.0</td>\n",
       "      <td>18.0</td>\n",
       "      <td>23.0</td>\n",
       "    </tr>\n",
       "    <tr>\n",
       "      <th>T58</th>\n",
       "      <td>318088.0</td>\n",
       "      <td>0.000534</td>\n",
       "      <td>0.023112</td>\n",
       "      <td>0.0</td>\n",
       "      <td>0.0</td>\n",
       "      <td>0.0</td>\n",
       "      <td>0.0</td>\n",
       "      <td>1.0</td>\n",
       "    </tr>\n",
       "    <tr>\n",
       "      <th>TP52</th>\n",
       "      <td>318088.0</td>\n",
       "      <td>0.000509</td>\n",
       "      <td>0.022562</td>\n",
       "      <td>0.0</td>\n",
       "      <td>0.0</td>\n",
       "      <td>0.0</td>\n",
       "      <td>0.0</td>\n",
       "      <td>1.0</td>\n",
       "    </tr>\n",
       "    <tr>\n",
       "      <th>TPME</th>\n",
       "      <td>318088.0</td>\n",
       "      <td>0.000497</td>\n",
       "      <td>0.022282</td>\n",
       "      <td>0.0</td>\n",
       "      <td>0.0</td>\n",
       "      <td>0.0</td>\n",
       "      <td>0.0</td>\n",
       "      <td>1.0</td>\n",
       "    </tr>\n",
       "    <tr>\n",
       "      <th>...</th>\n",
       "      <td>...</td>\n",
       "      <td>...</td>\n",
       "      <td>...</td>\n",
       "      <td>...</td>\n",
       "      <td>...</td>\n",
       "      <td>...</td>\n",
       "      <td>...</td>\n",
       "      <td>...</td>\n",
       "    </tr>\n",
       "    <tr>\n",
       "      <th>KB12</th>\n",
       "      <td>318088.0</td>\n",
       "      <td>0.000412</td>\n",
       "      <td>0.020290</td>\n",
       "      <td>0.0</td>\n",
       "      <td>0.0</td>\n",
       "      <td>0.0</td>\n",
       "      <td>0.0</td>\n",
       "      <td>1.0</td>\n",
       "    </tr>\n",
       "    <tr>\n",
       "      <th>SK51</th>\n",
       "      <td>318088.0</td>\n",
       "      <td>0.000541</td>\n",
       "      <td>0.023247</td>\n",
       "      <td>0.0</td>\n",
       "      <td>0.0</td>\n",
       "      <td>0.0</td>\n",
       "      <td>0.0</td>\n",
       "      <td>1.0</td>\n",
       "    </tr>\n",
       "    <tr>\n",
       "      <th>PL60</th>\n",
       "      <td>318088.0</td>\n",
       "      <td>0.000472</td>\n",
       "      <td>0.021711</td>\n",
       "      <td>0.0</td>\n",
       "      <td>0.0</td>\n",
       "      <td>0.0</td>\n",
       "      <td>0.0</td>\n",
       "      <td>1.0</td>\n",
       "    </tr>\n",
       "    <tr>\n",
       "      <th>Y74M</th>\n",
       "      <td>318088.0</td>\n",
       "      <td>0.000553</td>\n",
       "      <td>0.023516</td>\n",
       "      <td>0.0</td>\n",
       "      <td>0.0</td>\n",
       "      <td>0.0</td>\n",
       "      <td>0.0</td>\n",
       "      <td>1.0</td>\n",
       "    </tr>\n",
       "    <tr>\n",
       "      <th>W48</th>\n",
       "      <td>318088.0</td>\n",
       "      <td>0.000585</td>\n",
       "      <td>0.024174</td>\n",
       "      <td>0.0</td>\n",
       "      <td>0.0</td>\n",
       "      <td>0.0</td>\n",
       "      <td>0.0</td>\n",
       "      <td>1.0</td>\n",
       "    </tr>\n",
       "  </tbody>\n",
       "</table>\n",
       "<p>1925 rows × 8 columns</p>\n",
       "</div>"
      ],
      "text/plain": [
       "         count       mean       std  min  25%   50%   75%   max\n",
       "day   318088.0   2.794318  1.926795  0.0  1.0   3.0   4.0   6.0\n",
       "hour  318088.0  11.958464  6.575647  0.0  6.0  12.0  18.0  23.0\n",
       "T58   318088.0   0.000534  0.023112  0.0  0.0   0.0   0.0   1.0\n",
       "TP52  318088.0   0.000509  0.022562  0.0  0.0   0.0   0.0   1.0\n",
       "TPME  318088.0   0.000497  0.022282  0.0  0.0   0.0   0.0   1.0\n",
       "...        ...        ...       ...  ...  ...   ...   ...   ...\n",
       "KB12  318088.0   0.000412  0.020290  0.0  0.0   0.0   0.0   1.0\n",
       "SK51  318088.0   0.000541  0.023247  0.0  0.0   0.0   0.0   1.0\n",
       "PL60  318088.0   0.000472  0.021711  0.0  0.0   0.0   0.0   1.0\n",
       "Y74M  318088.0   0.000553  0.023516  0.0  0.0   0.0   0.0   1.0\n",
       "W48   318088.0   0.000585  0.024174  0.0  0.0   0.0   0.0   1.0\n",
       "\n",
       "[1925 rows x 8 columns]"
      ]
     },
     "execution_count": 11,
     "metadata": {},
     "output_type": "execute_result"
    }
   ],
   "source": [
    "train_stats = train_dataset.describe()\n",
    "train_stats.pop(\"lots_available\")\n",
    "train_stats = train_stats.transpose()\n",
    "train_stats"
   ]
  },
  {
   "cell_type": "code",
   "execution_count": 12,
   "metadata": {
    "id": "thXwsrBpDNBl"
   },
   "outputs": [],
   "source": [
    "train_labels = train_dataset.pop('lots_available')\n",
    "test_labels = test_dataset.pop('lots_available')"
   ]
  },
  {
   "cell_type": "code",
   "execution_count": 13,
   "metadata": {
    "id": "GTTQ7lEMDUXJ"
   },
   "outputs": [],
   "source": [
    "def build_model():\n",
    "  model = keras.Sequential([\n",
    "    layers.Dense(64, activation=tf.nn.relu, input_shape=[len(train_dataset.keys())]),\n",
    "    layers.Dense(64, activation=tf.nn.relu),\n",
    "    layers.Dense(1)\n",
    "  ])\n",
    "\n",
    "  optimizer = tf.keras.optimizers.RMSprop(0.1)\n",
    "\n",
    "  model.compile(loss='mse',\n",
    "                optimizer=optimizer,\n",
    "                metrics=['mae', 'mse'])\n",
    "  return model"
   ]
  },
  {
   "cell_type": "code",
   "execution_count": 14,
   "metadata": {
    "id": "8rPHP5fYDby4"
   },
   "outputs": [],
   "source": [
    "model = build_model()"
   ]
  },
  {
   "cell_type": "code",
   "execution_count": 15,
   "metadata": {
    "colab": {
     "base_uri": "https://localhost:8080/"
    },
    "id": "5ru_MCD3Dc59",
    "outputId": "4e37e5a2-ca88-4e58-efd4-0a2ce46533de"
   },
   "outputs": [
    {
     "name": "stdout",
     "output_type": "stream",
     "text": [
      "Model: \"sequential\"\n",
      "_________________________________________________________________\n",
      "Layer (type)                 Output Shape              Param #   \n",
      "=================================================================\n",
      "dense (Dense)                (None, 64)                123264    \n",
      "_________________________________________________________________\n",
      "dense_1 (Dense)              (None, 64)                4160      \n",
      "_________________________________________________________________\n",
      "dense_2 (Dense)              (None, 1)                 65        \n",
      "=================================================================\n",
      "Total params: 127,489\n",
      "Trainable params: 127,489\n",
      "Non-trainable params: 0\n",
      "_________________________________________________________________\n"
     ]
    }
   ],
   "source": [
    "model.summary()"
   ]
  },
  {
   "cell_type": "code",
   "execution_count": 18,
   "metadata": {},
   "outputs": [],
   "source": [
    "# Display training progress by printing a single dot for each completed epoch\n",
    "class PrintLoss(keras.callbacks.Callback):\n",
    "  def on_epoch_end(self, epoch, logs):\n",
    "    if epoch % 5 == 0: print(epoch, logs[\"loss\"])\n",
    "\n",
    "EPOCHS = 20"
   ]
  },
  {
   "cell_type": "code",
   "execution_count": null,
   "metadata": {
    "colab": {
     "base_uri": "https://localhost:8080/"
    },
    "id": "qQYFuPEhERXd",
    "outputId": "55555056-8e4c-4312-ab64-334a94df956a"
   },
   "outputs": [
    {
     "name": "stdout",
     "output_type": "stream",
     "text": [
      "0 28204.953125\n",
      "5 6182.18896484375\n",
      "10 5595.0712890625\n",
      "15 5449.37646484375\n"
     ]
    }
   ],
   "source": [
    "history = model.fit(\n",
    "  train_dataset, train_labels,\n",
    "  epochs=EPOCHS, validation_split = 0.2, verbose=0,\n",
    "  callbacks=[PrintLoss()])"
   ]
  },
  {
   "cell_type": "code",
   "execution_count": null,
   "metadata": {
    "colab": {
     "base_uri": "https://localhost:8080/",
     "height": 202
    },
    "id": "zTyizHy7FdWq",
    "outputId": "3c00f5bf-e565-42ae-853f-4198d996f7cf"
   },
   "outputs": [
    {
     "data": {
      "text/html": [
       "<div>\n",
       "<style scoped>\n",
       "    .dataframe tbody tr th:only-of-type {\n",
       "        vertical-align: middle;\n",
       "    }\n",
       "\n",
       "    .dataframe tbody tr th {\n",
       "        vertical-align: top;\n",
       "    }\n",
       "\n",
       "    .dataframe thead th {\n",
       "        text-align: right;\n",
       "    }\n",
       "</style>\n",
       "<table border=\"1\" class=\"dataframe\">\n",
       "  <thead>\n",
       "    <tr style=\"text-align: right;\">\n",
       "      <th></th>\n",
       "      <th>loss</th>\n",
       "      <th>mae</th>\n",
       "      <th>mse</th>\n",
       "      <th>val_loss</th>\n",
       "      <th>val_mae</th>\n",
       "      <th>val_mse</th>\n",
       "      <th>epoch</th>\n",
       "    </tr>\n",
       "  </thead>\n",
       "  <tbody>\n",
       "    <tr>\n",
       "      <th>15</th>\n",
       "      <td>5449.376465</td>\n",
       "      <td>31.024380</td>\n",
       "      <td>5449.376465</td>\n",
       "      <td>3252.303711</td>\n",
       "      <td>38.055347</td>\n",
       "      <td>3252.303711</td>\n",
       "      <td>15</td>\n",
       "    </tr>\n",
       "    <tr>\n",
       "      <th>16</th>\n",
       "      <td>5415.919434</td>\n",
       "      <td>30.836464</td>\n",
       "      <td>5415.919434</td>\n",
       "      <td>2521.967285</td>\n",
       "      <td>28.573288</td>\n",
       "      <td>2521.967285</td>\n",
       "      <td>16</td>\n",
       "    </tr>\n",
       "    <tr>\n",
       "      <th>17</th>\n",
       "      <td>5404.065918</td>\n",
       "      <td>30.756989</td>\n",
       "      <td>5404.065918</td>\n",
       "      <td>2346.995850</td>\n",
       "      <td>28.926802</td>\n",
       "      <td>2346.995850</td>\n",
       "      <td>17</td>\n",
       "    </tr>\n",
       "    <tr>\n",
       "      <th>18</th>\n",
       "      <td>5378.427246</td>\n",
       "      <td>30.517389</td>\n",
       "      <td>5378.427246</td>\n",
       "      <td>2421.631348</td>\n",
       "      <td>28.853821</td>\n",
       "      <td>2421.631348</td>\n",
       "      <td>18</td>\n",
       "    </tr>\n",
       "    <tr>\n",
       "      <th>19</th>\n",
       "      <td>5360.405273</td>\n",
       "      <td>30.271727</td>\n",
       "      <td>5360.405273</td>\n",
       "      <td>2232.346924</td>\n",
       "      <td>27.522488</td>\n",
       "      <td>2232.346924</td>\n",
       "      <td>19</td>\n",
       "    </tr>\n",
       "  </tbody>\n",
       "</table>\n",
       "</div>"
      ],
      "text/plain": [
       "           loss        mae          mse  ...    val_mae      val_mse  epoch\n",
       "15  5449.376465  31.024380  5449.376465  ...  38.055347  3252.303711     15\n",
       "16  5415.919434  30.836464  5415.919434  ...  28.573288  2521.967285     16\n",
       "17  5404.065918  30.756989  5404.065918  ...  28.926802  2346.995850     17\n",
       "18  5378.427246  30.517389  5378.427246  ...  28.853821  2421.631348     18\n",
       "19  5360.405273  30.271727  5360.405273  ...  27.522488  2232.346924     19\n",
       "\n",
       "[5 rows x 7 columns]"
      ]
     },
     "execution_count": 14,
     "metadata": {
      "tags": []
     },
     "output_type": "execute_result"
    }
   ],
   "source": [
    "hist = pd.DataFrame(history.history)\n",
    "hist['epoch'] = history.epoch\n",
    "hist.tail()"
   ]
  },
  {
   "cell_type": "code",
   "execution_count": 20,
   "metadata": {
    "colab": {
     "base_uri": "https://localhost:8080/",
     "height": 541
    },
    "id": "K2bijm11Hd2-",
    "outputId": "061f0876-ca92-4574-8c3d-02a3eaab4cf1"
   },
   "outputs": [],
   "source": [
    "def plot_history(history):\n",
    "  hist = pd.DataFrame(history.history)\n",
    "  hist['epoch'] = history.epoch\n",
    "  \n",
    "  plt.figure()\n",
    "  plt.xlabel('Epoch')\n",
    "  plt.ylabel('Mean Abs Error')\n",
    "  plt.plot(hist['epoch'], hist['mae'],\n",
    "           label='Train Error')\n",
    "  plt.plot(hist['epoch'], hist['val_mae'],\n",
    "           label = 'Val Error')\n",
    "  plt.legend()\n",
    "  \n",
    "  plt.figure()\n",
    "  plt.xlabel('Epoch')\n",
    "  plt.ylabel('Mean Square Error')\n",
    "  plt.plot(hist['epoch'], hist['mse'],\n",
    "           label='Train Error')\n",
    "  plt.plot(hist['epoch'], hist['val_mse'],\n",
    "           label = 'Val Error')\n",
    "  plt.legend()\n",
    "  plt.show()\n",
    "\n",
    "\n",
    "# plot_history(history)"
   ]
  },
  {
   "cell_type": "code",
   "execution_count": 21,
   "metadata": {
    "colab": {
     "base_uri": "https://localhost:8080/",
     "height": 619
    },
    "id": "YMg9uiSNUYeb",
    "outputId": "e488f422-234b-4950-ef41-8535d4210837"
   },
   "outputs": [
    {
     "name": "stdout",
     "output_type": "stream",
     "text": [
      "0 15801.4990234375\n",
      "5 5667.86572265625\n",
      "10 5586.62353515625\n",
      "15 5503.1669921875\n"
     ]
    },
    {
     "data": {
      "image/png": "[encoded data removed]",
      "text/plain": [
       "<Figure size 432x288 with 1 Axes>"
      ]
     },
     "metadata": {
      "needs_background": "light"
     },
     "output_type": "display_data"
    },
    {
     "data": {
      "image/png": "[encoded data removed]",
      "text/plain": [
       "<Figure size 432x288 with 1 Axes>"
      ]
     },
     "metadata": {
      "needs_background": "light"
     },
     "output_type": "display_data"
    }
   ],
   "source": [
    "model = build_model()\n",
    "\n",
    "# The patience parameter is the amount of epochs to check for improvement\n",
    "early_stop = keras.callbacks.EarlyStopping(monitor='val_loss', patience=10)\n",
    "\n",
    "history = model.fit(train_dataset, train_labels, epochs=EPOCHS,\n",
    "                    validation_split = 0.2, verbose=0, callbacks=[early_stop, PrintLoss()])\n",
    "\n",
    "plot_history(history)"
   ]
  },
  {
   "cell_type": "code",
   "execution_count": 22,
   "metadata": {
    "colab": {
     "base_uri": "https://localhost:8080/"
    },
    "id": "OWdM0unJUj5K",
    "outputId": "016ddce4-39c9-42d5-b629-3aae7e883b43"
   },
   "outputs": [
    {
     "name": "stdout",
     "output_type": "stream",
     "text": [
      "Testing set Mean Abs Error: 23.00 lots\n"
     ]
    }
   ],
   "source": [
    "loss, mae, mse = model.evaluate(test_dataset, test_labels, verbose=0)\n",
    "\n",
    "print(\"Testing set Mean Abs Error: {:5.2f} lots\".format(mae))"
   ]
  },
  {
   "cell_type": "code",
   "execution_count": 23,
   "metadata": {
    "colab": {
     "base_uri": "https://localhost:8080/",
     "height": 279
    },
    "id": "T9eOpqWyXv36",
    "outputId": "2ef85a4d-dfa5-4b27-e07a-fad120aec5a6"
   },
   "outputs": [
    {
     "data": {
      "image/png": "[encoded data removed]",
      "text/plain": [
       "<Figure size 432x288 with 1 Axes>"
      ]
     },
     "metadata": {
      "needs_background": "light"
     },
     "output_type": "display_data"
    }
   ],
   "source": [
    "test_predictions = model.predict(test_dataset).flatten()\n",
    "\n",
    "plt.scatter(test_labels, test_predictions)\n",
    "plt.xlabel('True Values [lots]')\n",
    "plt.ylabel('Predictions [lots]')\n",
    "plt.axis('equal')\n",
    "plt.axis('square')\n",
    "plt.xlim([0,plt.xlim()[1]])\n",
    "plt.ylim([0,plt.ylim()[1]])\n",
    "_ = plt.plot([-100, 100], [-100, 100])"
   ]
  },
  {
   "cell_type": "code",
   "execution_count": 24,
   "metadata": {
    "colab": {
     "base_uri": "https://localhost:8080/"
    },
    "id": "V23scaJ0W54t",
    "outputId": "ad99e2a3-e224-4a6a-c417-1f0f8debfc1c"
   },
   "outputs": [
    {
     "name": "stdout",
     "output_type": "stream",
     "text": [
      "WARNING:tensorflow:From C:\\Users\\Asus\\anaconda3\\lib\\site-packages\\tensorflow\\python\\training\\tracking\\tracking.py:111: Model.state_updates (from tensorflow.python.keras.engine.training) is deprecated and will be removed in a future version.\n",
      "Instructions for updating:\n",
      "This property should not be used in TensorFlow 2.0, as updates are applied automatically.\n",
      "WARNING:tensorflow:From C:\\Users\\Asus\\anaconda3\\lib\\site-packages\\tensorflow\\python\\training\\tracking\\tracking.py:111: Layer.updates (from tensorflow.python.keras.engine.base_layer) is deprecated and will be removed in a future version.\n",
      "Instructions for updating:\n",
      "This property should not be used in TensorFlow 2.0, as updates are applied automatically.\n",
      "INFO:tensorflow:Assets written to: HnR2021_tf_model\\assets\n"
     ]
    }
   ],
   "source": [
    "model.save(\"HnR2021_tf_model\")"
   ]
  },
  {
   "cell_type": "code",
   "execution_count": 25,
   "metadata": {
    "id": "oUaKHsc-XRW1"
   },
   "outputs": [],
   "source": [
    "converter = tf.lite.TFLiteConverter.from_saved_model(\"HnR2021_tf_model\")\n",
    "tflite_model = converter.convert()\n",
    "\n",
    "# Save the model.\n",
    "with open('model.tflite', 'wb') as f:\n",
    "  f.write(tflite_model)"
   ]
  },
  {
   "cell_type": "code",
   "execution_count": null,
   "metadata": {},
   "outputs": [],
   "source": []
  }
 ],
 "metadata": {
  "colab": {
   "collapsed_sections": [],
   "name": "Untitled0.ipynb",
   "provenance": []
  },
  "kernelspec": {
   "display_name": "Python 3",
   "language": "python",
   "name": "python3"
  },
  "language_info": {
   "codemirror_mode": {
    "name": "ipython",
    "version": 3
   },
   "file_extension": ".py",
   "mimetype": "text/x-python",
   "name": "python",
   "nbconvert_exporter": "python",
   "pygments_lexer": "ipython3",
   "version": "3.7.6"
  }
 },
 "nbformat": 4,
 "nbformat_minor": 1
}
